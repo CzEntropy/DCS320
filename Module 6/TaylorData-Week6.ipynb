{
 "cells": [
  {
   "cell_type": "markdown",
   "metadata": {},
   "source": [
    "## Cristian Taylor\n",
    "## 7/19/2024\n",
    "## DSC320 Math for Data Science \n",
    "## Week 6 - Matricies\n"
   ]
  },
  {
   "cell_type": "markdown",
   "metadata": {},
   "source": [
    "### Enter the matrices as Numpy arrays"
   ]
  },
  {
   "cell_type": "code",
   "execution_count": 20,
   "metadata": {},
   "outputs": [],
   "source": [
    "import numpy as np\n",
    "\n",
    "# Define the matrices A, B, and C\n",
    "A = np.array([\n",
    "    [1, -2, 3, 7],\n",
    "    [2, 1, 1, 4],\n",
    "    [-3, 2, -2, 10]\n",
    "])\n",
    "\n",
    "B = np.array([\n",
    "    [0, 1, -3,-2],\n",
    "    [10, -1, 2, -3],\n",
    "    [5, 1, -1, 4]\n",
    "])\n",
    "\n",
    "C = np.array([\n",
    "    [4, 0, -2, 3],\n",
    "    [3, 6, 9, 7],\n",
    "    [2, 2, 5, 1],\n",
    "    [9, 4, 6, -2]\n",
    "])\n"
   ]
  },
  {
   "cell_type": "markdown",
   "metadata": {},
   "source": [
    "### Determine the dimensions of each matrix"
   ]
  },
  {
   "cell_type": "code",
   "execution_count": 21,
   "metadata": {},
   "outputs": [
    {
     "data": {
      "text/plain": [
       "((3, 4), (3, 4), (4, 4))"
      ]
     },
     "execution_count": 21,
     "metadata": {},
     "output_type": "execute_result"
    }
   ],
   "source": [
    "# Get the dimensions of the matrices\n",
    "dim_A = A.shape\n",
    "dim_B = B.shape\n",
    "dim_C = C.shape\n",
    "\n",
    "(dim_A, dim_B, dim_C)\n"
   ]
  },
  {
   "cell_type": "markdown",
   "metadata": {},
   "source": [
    "### Determine if each matrix operation is defined and calculate the result if defined"
   ]
  },
  {
   "cell_type": "markdown",
   "metadata": {},
   "source": [
    " \n",
    "***𝐴+𝐵***"
   ]
  },
  {
   "cell_type": "code",
   "execution_count": 22,
   "metadata": {},
   "outputs": [
    {
     "data": {
      "text/plain": [
       "array([[ 1, -1,  0,  5],\n",
       "       [12,  0,  3,  1],\n",
       "       [ 2,  3, -3, 14]])"
      ]
     },
     "execution_count": 22,
     "metadata": {},
     "output_type": "execute_result"
    }
   ],
   "source": [
    "try:\n",
    "    A_plus_B = A + B\n",
    "except ValueError as e:\n",
    "    A_plus_B = str(e)\n",
    "\n",
    "A_plus_B\n"
   ]
  },
  {
   "cell_type": "markdown",
   "metadata": {},
   "source": [
    " \n",
    "***𝐴𝐵***"
   ]
  },
  {
   "cell_type": "code",
   "execution_count": 23,
   "metadata": {},
   "outputs": [
    {
     "data": {
      "text/plain": [
       "'shapes (3,4) and (3,4) not aligned: 4 (dim 1) != 3 (dim 0)'"
      ]
     },
     "execution_count": 23,
     "metadata": {},
     "output_type": "execute_result"
    }
   ],
   "source": [
    "try:\n",
    "    AB = np.dot(A, B)\n",
    "except ValueError as e:\n",
    "    AB = str(e)\n",
    "\n",
    "AB\n"
   ]
  },
  {
   "cell_type": "markdown",
   "metadata": {},
   "source": [
    " \n",
    "***AC***"
   ]
  },
  {
   "cell_type": "code",
   "execution_count": 24,
   "metadata": {},
   "outputs": [
    {
     "data": {
      "text/plain": [
       "array([[ 67,  22,  37, -22],\n",
       "       [ 49,  24,  34,   6],\n",
       "       [ 80,  48,  74, -17]])"
      ]
     },
     "execution_count": 24,
     "metadata": {},
     "output_type": "execute_result"
    }
   ],
   "source": [
    "try:\n",
    "    AC = np.dot(A, C)\n",
    "except ValueError as e:\n",
    "    AC = str(e)\n",
    "\n",
    "AC\n"
   ]
  },
  {
   "cell_type": "markdown",
   "metadata": {},
   "source": [
    "\n",
    " ### Transpose of C"
   ]
  },
  {
   "cell_type": "code",
   "execution_count": 25,
   "metadata": {},
   "outputs": [
    {
     "data": {
      "text/plain": [
       "array([[ 4,  3,  2,  9],\n",
       "       [ 0,  6,  2,  4],\n",
       "       [-2,  9,  5,  6],\n",
       "       [ 3,  7,  1, -2]])"
      ]
     },
     "execution_count": 25,
     "metadata": {},
     "output_type": "execute_result"
    }
   ],
   "source": [
    "C_T = np.transpose(C)\n",
    "\n",
    "C_T\n"
   ]
  },
  {
   "cell_type": "markdown",
   "metadata": {},
   "source": []
  },
  {
   "cell_type": "markdown",
   "metadata": {},
   "source": [
    "### Illustrate the property  : Transpose of ***(AC)*** = Transpose of ***C*** * Transpose of ***A***\n"
   ]
  },
  {
   "cell_type": "code",
   "execution_count": 26,
   "metadata": {},
   "outputs": [
    {
     "data": {
      "text/plain": [
       "(array([[ 67,  49,  80],\n",
       "        [ 22,  24,  48],\n",
       "        [ 37,  34,  74],\n",
       "        [-22,   6, -17]]),\n",
       " array([[ 67,  49,  80],\n",
       "        [ 22,  24,  48],\n",
       "        [ 37,  34,  74],\n",
       "        [-22,   6, -17]]))"
      ]
     },
     "execution_count": 26,
     "metadata": {},
     "output_type": "execute_result"
    }
   ],
   "source": [
    "AC_T = np.transpose(np.dot(A, C))\n",
    "C_T_A_T = np.dot(np.transpose(C), np.transpose(A))\n",
    "\n",
    "(AC_T, C_T_A_T)\n"
   ]
  },
  {
   "cell_type": "markdown",
   "metadata": {},
   "source": [
    "### Inverse of C"
   ]
  },
  {
   "cell_type": "code",
   "execution_count": 27,
   "metadata": {},
   "outputs": [
    {
     "data": {
      "text/plain": [
       "array([[ 0.14814815, -0.07407407,  0.14814815,  0.03703704],\n",
       "       [-0.3       ,  0.35      , -1.05      ,  0.25      ],\n",
       "       [ 0.02962963, -0.11481481,  0.52962963, -0.09259259],\n",
       "       [ 0.15555556,  0.02222222,  0.15555556, -0.11111111]])"
      ]
     },
     "execution_count": 27,
     "metadata": {},
     "output_type": "execute_result"
    }
   ],
   "source": [
    "try:\n",
    "    C_inv = np.linalg.inv(C)\n",
    "except np.linalg.LinAlgError as e:\n",
    "    C_inv = str(e)\n",
    "\n",
    "C_inv\n"
   ]
  },
  {
   "cell_type": "markdown",
   "metadata": {},
   "source": [
    "Import Image - Use Week7_image.jpg"
   ]
  },
  {
   "cell_type": "markdown",
   "metadata": {},
   "source": [
    "2. Find the resolution of this image. Hint: OpenCV imports the image as a Numpy array, where each\n",
    "pixel corresponds to an entry in the array.\n",
    "3. In checking the array dimensions, you should see that three numbers are displayed. What is this third\n",
    "number, and why is it there?"
   ]
  }
 ],
 "metadata": {
  "kernelspec": {
   "display_name": "my-env",
   "language": "python",
   "name": "python3"
  },
  "language_info": {
   "codemirror_mode": {
    "name": "ipython",
    "version": 3
   },
   "file_extension": ".py",
   "mimetype": "text/x-python",
   "name": "python",
   "nbconvert_exporter": "python",
   "pygments_lexer": "ipython3",
   "version": "3.12.3"
  }
 },
 "nbformat": 4,
 "nbformat_minor": 2
}
