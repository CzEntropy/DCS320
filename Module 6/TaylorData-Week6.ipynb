{
 "cells": [
  {
   "cell_type": "markdown",
   "metadata": {},
   "source": [
    "## Cristian Taylor\n",
    "## 7/19/2024\n",
    "## DSC320 Math for Data Science \n",
    "## Week 6 - Matricies\n"
   ]
  },
  {
   "cell_type": "markdown",
   "metadata": {},
   "source": [
    "### Enter the matrices as Numpy arrays"
   ]
  },
  {
   "cell_type": "code",
   "execution_count": 20,
   "metadata": {},
   "outputs": [],
   "source": [
    "import numpy as np\n",
    "\n",
    "# Define the matrices A, B, and C\n",
    "A = np.array([\n",
    "    [1, -2, 3, 7],\n",
    "    [2, 1, 1, 4],\n",
    "    [-3, 2, -2, 10]\n",
    "])\n",
    "\n",
    "B = np.array([\n",
    "    [0, 1, -3,-2],\n",
    "    [10, -1, 2, -3],\n",
    "    [5, 1, -1, 4]\n",
    "])\n",
    "\n",
    "C = np.array([\n",
    "    [4, 0, -2, 3],\n",
    "    [3, 6, 9, 7],\n",
    "    [2, 2, 5, 1],\n",
    "    [9, 4, 6, -2]\n",
    "])\n"
   ]
  },
  {
   "cell_type": "markdown",
   "metadata": {},
   "source": [
    "### Determine the dimensions of each matrix"
   ]
  },
  {
   "cell_type": "code",
   "execution_count": 21,
   "metadata": {},
   "outputs": [
    {
     "data": {
      "text/plain": [
       "((3, 4), (3, 4), (4, 4))"
      ]
     },
     "execution_count": 21,
     "metadata": {},
     "output_type": "execute_result"
    }
   ],
   "source": [
    "# Get the dimensions of the matrices\n",
    "dim_A = A.shape\n",
    "dim_B = B.shape\n",
    "dim_C = C.shape\n",
    "\n",
    "(dim_A, dim_B, dim_C)\n"
   ]
  },
  {
   "cell_type": "markdown",
   "metadata": {},
   "source": [
    "### Determine if each matrix operation is defined and calculate the result if defined"
   ]
  },
  {
   "cell_type": "markdown",
   "metadata": {},
   "source": [
    " \n",
    "***𝐴+𝐵***"
   ]
  },
  {
   "cell_type": "code",
   "execution_count": 22,
   "metadata": {},
   "outputs": [
    {
     "data": {
      "text/plain": [
       "array([[ 1, -1,  0,  5],\n",
       "       [12,  0,  3,  1],\n",
       "       [ 2,  3, -3, 14]])"
      ]
     },
     "execution_count": 22,
     "metadata": {},
     "output_type": "execute_result"
    }
   ],
   "source": [
    "try:\n",
    "    A_plus_B = A + B\n",
    "except ValueError as e:\n",
    "    A_plus_B = str(e)\n",
    "\n",
    "A_plus_B\n"
   ]
  },
  {
   "cell_type": "markdown",
   "metadata": {},
   "source": [
    " \n",
    "***𝐴𝐵***"
   ]
  },
  {
   "cell_type": "code",
   "execution_count": 23,
   "metadata": {},
   "outputs": [
    {
     "data": {
      "text/plain": [
       "'shapes (3,4) and (3,4) not aligned: 4 (dim 1) != 3 (dim 0)'"
      ]
     },
     "execution_count": 23,
     "metadata": {},
     "output_type": "execute_result"
    }
   ],
   "source": [
    "try:\n",
    "    AB = np.dot(A, B)\n",
    "except ValueError as e:\n",
    "    AB = str(e)\n",
    "\n",
    "AB\n"
   ]
  },
  {
   "cell_type": "markdown",
   "metadata": {},
   "source": [
    " \n",
    "***AC***"
   ]
  },
  {
   "cell_type": "code",
   "execution_count": 24,
   "metadata": {},
   "outputs": [
    {
     "data": {
      "text/plain": [
       "array([[ 67,  22,  37, -22],\n",
       "       [ 49,  24,  34,   6],\n",
       "       [ 80,  48,  74, -17]])"
      ]
     },
     "execution_count": 24,
     "metadata": {},
     "output_type": "execute_result"
    }
   ],
   "source": [
    "try:\n",
    "    AC = np.dot(A, C)\n",
    "except ValueError as e:\n",
    "    AC = str(e)\n",
    "\n",
    "AC\n"
   ]
  },
  {
   "cell_type": "markdown",
   "metadata": {},
   "source": [
    "\n",
    " ### Transpose of C"
   ]
  },
  {
   "cell_type": "code",
   "execution_count": 25,
   "metadata": {},
   "outputs": [
    {
     "data": {
      "text/plain": [
       "array([[ 4,  3,  2,  9],\n",
       "       [ 0,  6,  2,  4],\n",
       "       [-2,  9,  5,  6],\n",
       "       [ 3,  7,  1, -2]])"
      ]
     },
     "execution_count": 25,
     "metadata": {},
     "output_type": "execute_result"
    }
   ],
   "source": [
    "C_T = np.transpose(C)\n",
    "\n",
    "C_T\n"
   ]
  },
  {
   "cell_type": "markdown",
   "metadata": {},
   "source": []
  },
  {
   "cell_type": "markdown",
   "metadata": {},
   "source": [
    "### Illustrate the property  : Transpose of ***(AC)*** = Transpose of ***C*** * Transpose of ***A***\n"
   ]
  },
  {
   "cell_type": "code",
   "execution_count": 26,
   "metadata": {},
   "outputs": [
    {
     "data": {
      "text/plain": [
       "(array([[ 67,  49,  80],\n",
       "        [ 22,  24,  48],\n",
       "        [ 37,  34,  74],\n",
       "        [-22,   6, -17]]),\n",
       " array([[ 67,  49,  80],\n",
       "        [ 22,  24,  48],\n",
       "        [ 37,  34,  74],\n",
       "        [-22,   6, -17]]))"
      ]
     },
     "execution_count": 26,
     "metadata": {},
     "output_type": "execute_result"
    }
   ],
   "source": [
    "AC_T = np.transpose(np.dot(A, C))\n",
    "C_T_A_T = np.dot(np.transpose(C), np.transpose(A))\n",
    "\n",
    "(AC_T, C_T_A_T)\n"
   ]
  },
  {
   "cell_type": "markdown",
   "metadata": {},
   "source": [
    "### Inverse of C"
   ]
  },
  {
   "cell_type": "code",
   "execution_count": 27,
   "metadata": {},
   "outputs": [
    {
     "data": {
      "text/plain": [
       "array([[ 0.14814815, -0.07407407,  0.14814815,  0.03703704],\n",
       "       [-0.3       ,  0.35      , -1.05      ,  0.25      ],\n",
       "       [ 0.02962963, -0.11481481,  0.52962963, -0.09259259],\n",
       "       [ 0.15555556,  0.02222222,  0.15555556, -0.11111111]])"
      ]
     },
     "execution_count": 27,
     "metadata": {},
     "output_type": "execute_result"
    }
   ],
   "source": [
    "try:\n",
    "    C_inv = np.linalg.inv(C)\n",
    "except np.linalg.LinAlgError as e:\n",
    "    C_inv = str(e)\n",
    "\n",
    "C_inv\n"
   ]
  },
  {
   "cell_type": "markdown",
   "metadata": {},
   "source": [
    "Import Image - Use Week7_image.jpg\n"
   ]
  },
  {
   "cell_type": "code",
   "execution_count": 1,
   "metadata": {},
   "outputs": [
    {
     "ename": "ModuleNotFoundError",
     "evalue": "No module named 'cv2'",
     "output_type": "error",
     "traceback": [
      "\u001b[1;31m---------------------------------------------------------------------------\u001b[0m",
      "\u001b[1;31mModuleNotFoundError\u001b[0m                       Traceback (most recent call last)",
      "Cell \u001b[1;32mIn[1], line 1\u001b[0m\n\u001b[1;32m----> 1\u001b[0m \u001b[38;5;28;01mimport\u001b[39;00m \u001b[38;5;21;01mcv2\u001b[39;00m \n\u001b[0;32m      3\u001b[0m \u001b[38;5;28;01mimport\u001b[39;00m \u001b[38;5;21;01mmatplotlib\u001b[39;00m\u001b[38;5;21;01m.\u001b[39;00m\u001b[38;5;21;01mpyplot\u001b[39;00m \u001b[38;5;28;01mas\u001b[39;00m \u001b[38;5;21;01mplt\u001b[39;00m\n\u001b[0;32m      5\u001b[0m image_bgr \u001b[38;5;241m=\u001b[39m cv2\u001b[38;5;241m.\u001b[39mimread(\u001b[38;5;124m'\u001b[39m\u001b[38;5;124mweek7_image.pjg\u001b[39m\u001b[38;5;124m'\u001b[39m, cv2\u001b[38;5;241m.\u001b[39mIMREAD_COLOR) \n",
      "\u001b[1;31mModuleNotFoundError\u001b[0m: No module named 'cv2'"
     ]
    }
   ],
   "source": [
    "import cv2 \n",
    "\n",
    "import matplotlib.pyplot as plt\n",
    "\n",
    "image_bgr = cv2.imread('week7_image.pjg', cv2.IMREAD_COLOR) \n",
    "image_rgb = cv2.cvtColor(image_bgr,cv2.COLOR_BGR2RGB)\n",
    "\n",
    "\n",
    "#display the image \n",
    "plt.imshow(image_rgb)\n",
    "plt.axis(\"off\")\n",
    "plt.show()"
   ]
  },
  {
   "cell_type": "markdown",
   "metadata": {},
   "source": [
    "### Find the resolution of this image.\n"
   ]
  },
  {
   "cell_type": "code",
   "execution_count": null,
   "metadata": {},
   "outputs": [],
   "source": [
    "height, width, channels = image.shape\n"
   ]
  },
  {
   "cell_type": "markdown",
   "metadata": {},
   "source": [
    "### In checking the array dimensions, you should see that three numbers are displayed.\n",
    "### What is this third number, and why is it there?"
   ]
  },
  {
   "cell_type": "markdown",
   "metadata": {},
   "source": [
    "The third number indicutes the number of color channels. a few examples include 1 - grayscale, 3 - RGB color, and 4 RGBA color w/ transparency."
   ]
  }
 ],
 "metadata": {
  "kernelspec": {
   "display_name": "my-env",
   "language": "python",
   "name": "python3"
  },
  "language_info": {
   "codemirror_mode": {
    "name": "ipython",
    "version": 3
   },
   "file_extension": ".py",
   "mimetype": "text/x-python",
   "name": "python",
   "nbconvert_exporter": "python",
   "pygments_lexer": "ipython3",
   "version": "3.12.3"
  }
 },
 "nbformat": 4,
 "nbformat_minor": 2
}
