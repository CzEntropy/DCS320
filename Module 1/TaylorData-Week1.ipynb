{
 "cells": [
  {
   "cell_type": "code",
   "execution_count": 19,
   "metadata": {},
   "outputs": [],
   "source": [
    "\n",
    "import numpy as np\n",
    "import pandas as pd\n",
    "import matplotlib.pyplot as plt\n",
    "from sklearn import linear_model\n",
    "import math\n",
    "housing_df = pd.read_csv('housing_data.csv')\n",
    "mushroom_df = pd.read_csv('mushroom_data.csv')"
   ]
  },
  {
   "cell_type": "code",
   "execution_count": 20,
   "metadata": {},
   "outputs": [],
   "source": [
    "%matplotlib inline"
   ]
  },
  {
   "cell_type": "code",
   "execution_count": 11,
   "metadata": {},
   "outputs": [
    {
     "data": {
      "text/html": [
       "<div>\n",
       "<style scoped>\n",
       "    .dataframe tbody tr th:only-of-type {\n",
       "        vertical-align: middle;\n",
       "    }\n",
       "\n",
       "    .dataframe tbody tr th {\n",
       "        vertical-align: top;\n",
       "    }\n",
       "\n",
       "    .dataframe thead th {\n",
       "        text-align: right;\n",
       "    }\n",
       "</style>\n",
       "<table border=\"1\" class=\"dataframe\">\n",
       "  <thead>\n",
       "    <tr style=\"text-align: right;\">\n",
       "      <th></th>\n",
       "      <th>sqft</th>\n",
       "      <th>sale_price</th>\n",
       "      <th>sale_price_pred</th>\n",
       "    </tr>\n",
       "  </thead>\n",
       "  <tbody>\n",
       "    <tr>\n",
       "      <th>count</th>\n",
       "      <td>1460.000000</td>\n",
       "      <td>1460.000000</td>\n",
       "      <td>1460.000000</td>\n",
       "    </tr>\n",
       "    <tr>\n",
       "      <th>mean</th>\n",
       "      <td>1953.258904</td>\n",
       "      <td>180921.195890</td>\n",
       "      <td>180921.195891</td>\n",
       "    </tr>\n",
       "    <tr>\n",
       "      <th>std</th>\n",
       "      <td>763.074583</td>\n",
       "      <td>79442.502883</td>\n",
       "      <td>57244.924812</td>\n",
       "    </tr>\n",
       "    <tr>\n",
       "      <th>min</th>\n",
       "      <td>334.000000</td>\n",
       "      <td>34900.000000</td>\n",
       "      <td>59446.367310</td>\n",
       "    </tr>\n",
       "    <tr>\n",
       "      <th>25%</th>\n",
       "      <td>1456.000000</td>\n",
       "      <td>129975.000000</td>\n",
       "      <td>143617.439200</td>\n",
       "    </tr>\n",
       "    <tr>\n",
       "      <th>50%</th>\n",
       "      <td>1818.500000</td>\n",
       "      <td>163000.000000</td>\n",
       "      <td>170811.747200</td>\n",
       "    </tr>\n",
       "    <tr>\n",
       "      <th>75%</th>\n",
       "      <td>2302.000000</td>\n",
       "      <td>214000.000000</td>\n",
       "      <td>207083.327675</td>\n",
       "    </tr>\n",
       "    <tr>\n",
       "      <th>max</th>\n",
       "      <td>11286.000000</td>\n",
       "      <td>755000.000000</td>\n",
       "      <td>881052.053300</td>\n",
       "    </tr>\n",
       "  </tbody>\n",
       "</table>\n",
       "</div>"
      ],
      "text/plain": [
       "               sqft     sale_price  sale_price_pred\n",
       "count   1460.000000    1460.000000      1460.000000\n",
       "mean    1953.258904  180921.195890    180921.195891\n",
       "std      763.074583   79442.502883     57244.924812\n",
       "min      334.000000   34900.000000     59446.367310\n",
       "25%     1456.000000  129975.000000    143617.439200\n",
       "50%     1818.500000  163000.000000    170811.747200\n",
       "75%     2302.000000  214000.000000    207083.327675\n",
       "max    11286.000000  755000.000000    881052.053300"
      ]
     },
     "execution_count": 11,
     "metadata": {},
     "output_type": "execute_result"
    }
   ],
   "source": [
    "housing_df.describe()"
   ]
  },
  {
   "cell_type": "markdown",
   "metadata": {},
   "source": [
    "## Part 1 - Mathematical and Python Functions"
   ]
  },
  {
   "cell_type": "code",
   "execution_count": 13,
   "metadata": {},
   "outputs": [
    {
     "name": "stdout",
     "output_type": "stream",
     "text": [
      "RMSE: 55064.0688338987\n"
     ]
    }
   ],
   "source": [
    "#1a - Function to calculate RMSE \n",
    "def calculate_rmse(actual, predicted):\n",
    "    \"\"\"\n",
    "    Calculate the Root Mean Square Error (RMSE) between actual and predicted values.\n",
    "    \n",
    "    Parameters:\n",
    "    actual (list): List of actual values\n",
    "    predicted (list): List of predicted values\n",
    "    \n",
    "    Returns:\n",
    "    float: RMSE value\n",
    "    \"\"\"\n",
    "    # Ensure both lists have the same length\n",
    "    if len(actual) != len(predicted):\n",
    "        raise ValueError(\"Lists must have the same length.\")\n",
    "    \n",
    "    # Calculate the squared differences\n",
    "    squared_diffs = [(pred - act) ** 2 for act, pred in zip(actual, predicted)]\n",
    "    \n",
    "    # Calculate the mean of the squared differences\n",
    "    mean_squared_diff = sum(squared_diffs) / len(actual)\n",
    "    \n",
    "    # Calculate the square root of the mean squared difference\n",
    "    rmse = math.sqrt(mean_squared_diff)\n",
    "    \n",
    "    return rmse\n",
    "\n",
    "\n",
    "#1b - Calculate RMSE of sale_price & sale_price_pred\n",
    "rmse_result = calculate_rmse(housing_df['sale_price'],housing_df['sale_price_pred'])\n",
    "print(\"RMSE:\", rmse_result)"
   ]
  },
  {
   "cell_type": "code",
   "execution_count": 14,
   "metadata": {},
   "outputs": [
    {
     "name": "stdout",
     "output_type": "stream",
     "text": [
      "MAE: 37438.68916270548\n"
     ]
    }
   ],
   "source": [
    "#2a - Function to calculate MAE\n",
    "def calculate_mae(actual, predicted):\n",
    "    \"\"\"\n",
    "    Calculate the Mean Absolute Error (MAE) between actual and predicted values.\n",
    "    \n",
    "    Parameters:\n",
    "    actual (list): List of actual values\n",
    "    predicted (list): List of predicted values\n",
    "    \n",
    "    Returns:\n",
    "    float: MAE value\n",
    "    \"\"\"\n",
    "    # Ensure both lists have the same length\n",
    "    if len(actual) != len(predicted):\n",
    "        raise ValueError(\"Lists must have the same length.\")\n",
    "    \n",
    "    # Calculate the absolute differences\n",
    "    absolute_diffs = [abs(pred - act) for act, pred in zip(actual, predicted)]\n",
    "    \n",
    "    # Calculate the mean of the absolute differences\n",
    "    mae = sum(absolute_diffs) / len(actual)\n",
    "    \n",
    "    return mae\n",
    "\n",
    "#2b - Calculate MAE of sale_price & sale_price_pred\n",
    "mae_result = calculate_mae(housing_df['sale_price'],housing_df['sale_price_pred'])\n",
    "print(\"MAE:\", mae_result)\n"
   ]
  },
  {
   "cell_type": "code",
   "execution_count": 16,
   "metadata": {},
   "outputs": [
    {
     "data": {
      "text/html": [
       "<div>\n",
       "<style scoped>\n",
       "    .dataframe tbody tr th:only-of-type {\n",
       "        vertical-align: middle;\n",
       "    }\n",
       "\n",
       "    .dataframe tbody tr th {\n",
       "        vertical-align: top;\n",
       "    }\n",
       "\n",
       "    .dataframe thead th {\n",
       "        text-align: right;\n",
       "    }\n",
       "</style>\n",
       "<table border=\"1\" class=\"dataframe\">\n",
       "  <thead>\n",
       "    <tr style=\"text-align: right;\">\n",
       "      <th></th>\n",
       "      <th>actual</th>\n",
       "      <th>predicted</th>\n",
       "    </tr>\n",
       "  </thead>\n",
       "  <tbody>\n",
       "    <tr>\n",
       "      <th>count</th>\n",
       "      <td>8124</td>\n",
       "      <td>8124</td>\n",
       "    </tr>\n",
       "    <tr>\n",
       "      <th>unique</th>\n",
       "      <td>2</td>\n",
       "      <td>2</td>\n",
       "    </tr>\n",
       "    <tr>\n",
       "      <th>top</th>\n",
       "      <td>e</td>\n",
       "      <td>p</td>\n",
       "    </tr>\n",
       "    <tr>\n",
       "      <th>freq</th>\n",
       "      <td>4208</td>\n",
       "      <td>4566</td>\n",
       "    </tr>\n",
       "  </tbody>\n",
       "</table>\n",
       "</div>"
      ],
      "text/plain": [
       "       actual predicted\n",
       "count    8124      8124\n",
       "unique      2         2\n",
       "top         e         p\n",
       "freq     4208      4566"
      ]
     },
     "execution_count": 16,
     "metadata": {},
     "output_type": "execute_result"
    }
   ],
   "source": [
    "mushroom_df.describe()"
   ]
  },
  {
   "cell_type": "code",
   "execution_count": 17,
   "metadata": {},
   "outputs": [
    {
     "name": "stdout",
     "output_type": "stream",
     "text": [
      "Accuracy: 0.8471196454948301\n"
     ]
    }
   ],
   "source": [
    "#3a - Function to calculate accuracy\n",
    "def calculate_accuracy(actual, predicted):\n",
    "    \"\"\"\n",
    "    Calculate the accuracy between actual and predicted binary values.\n",
    "    \n",
    "    Parameters:\n",
    "    actual (list): List of actual binary values\n",
    "    predicted (list): List of predicted binary values\n",
    "    \n",
    "    Returns:\n",
    "    float: Accuracy value\n",
    "    \"\"\"\n",
    "    # Ensure both lists have the same length\n",
    "    if len(actual) != len(predicted):\n",
    "        raise ValueError(\"Lists must have the same length.\")\n",
    "    \n",
    "    # Count the number of correct predictions\n",
    "    correct_predictions = sum(act == pred for act, pred in zip(actual, predicted))\n",
    "    \n",
    "    # Calculate accuracy\n",
    "    accuracy = correct_predictions / len(actual)\n",
    "    \n",
    "    return accuracy\n",
    "\n",
    "\n",
    "#3b - Calculate accuracy of actual vs predicted using Mushroomdata.csv\n",
    "accuracy_result = calculate_accuracy(mushroom_df['actual'],mushroom_df['predicted'])\n",
    "print(\"Accuracy:\", accuracy_result)\n"
   ]
  },
  {
   "cell_type": "code",
   "execution_count": 22,
   "metadata": {},
   "outputs": [
    {
     "data": {
      "image/png": "[encoded data removed]",
      "text/plain": [
       "<Figure size 1000x600 with 1 Axes>"
      ]
     },
     "metadata": {},
     "output_type": "display_data"
    },
    {
     "name": "stdout",
     "output_type": "stream",
     "text": [
      "Value of p that minimizes the error: 5.187969924812029\n",
      "Minimum error value: 1.752874138614061\n"
     ]
    }
   ],
   "source": [
    "\n",
    "#4a - Define the error function\n",
    "def error_function(p):\n",
    "    \"\"\"\n",
    "    Calculate the error function value for a given parameter p.\n",
    "    \n",
    "    Parameters:\n",
    "    p (float): The parameter of the model\n",
    "    \n",
    "    Returns:\n",
    "    float: Error value\n",
    "    \"\"\"\n",
    "    error= 0.005 * p**6 - 0.27 * p**5 + 5.998 * p**4 - 69.919 * p**3 + 449.17 * p**2 - 1499.7 * p + 2028\n",
    "    return error\n",
    "\n",
    "# Generate values for p\n",
    "p_values = np.linspace(-10, 10, 400)\n",
    "\n",
    "# Calculate error values\n",
    "error_values = [error_function(p) for p in p_values]\n",
    "\n",
    "# Plot the error function\n",
    "plt.figure(figsize=(10, 6))\n",
    "plt.plot(p_values, error_values, label='Error Function')\n",
    "plt.xlabel('p')\n",
    "plt.ylabel('Error')\n",
    "plt.title('Error Function Plot')\n",
    "plt.legend()\n",
    "plt.grid(True)\n",
    "plt.show()\n",
    "\n",
    "# Estimate value of p that minimizes the error\n",
    "min_error_index = np.argmin(error_values)\n",
    "min_p_value = p_values[min_error_index]\n",
    "\n",
    "# Estimate the minimum error\n",
    "min_error_value = error_values[min_error_index]\n",
    "\n",
    "print(\"Value of p that minimizes the error:\", min_p_value)\n",
    "print(\"Minimum error value:\", min_error_value)\n"
   ]
  },
  {
   "cell_type": "markdown",
   "metadata": {},
   "source": [
    "## Part 2 - Mathematical and Python Functions Scatterplots and Linear Regression\n",
    "\n",
    "For this assignment, you will be using the data set car data.csv. This data set is a modified version of the data\n",
    "set imports-85.data from https://archive.ics.uci.edu/ml/datasets/automobile. There are two columns in this data set.\n",
    "One is the weight of the vehicle in pounds, and the other is the highway miles per gallon."
   ]
  },
  {
   "cell_type": "code",
   "execution_count": null,
   "metadata": {},
   "outputs": [],
   "source": [
    "#1 - Make a scatterplot of the highway miles per gallon (y-axis) versus the weight (x-axis).\n"
   ]
  },
  {
   "cell_type": "code",
   "execution_count": null,
   "metadata": {},
   "outputs": [],
   "source": [
    "#2. Based on your plot, what is the general trend of how highway miles per gallon varies with the weight?"
   ]
  },
  {
   "cell_type": "code",
   "execution_count": null,
   "metadata": {},
   "outputs": [],
   "source": [
    "#3. If you were to build a linear model using this data to predict h"
   ]
  },
  {
   "cell_type": "code",
   "execution_count": null,
   "metadata": {},
   "outputs": [],
   "source": [
    "#4. If the slope of a linear model predicting highway miles per gallon from the weight, interpret the meaning of the \n",
    "# slope being −0.05."
   ]
  },
  {
   "cell_type": "code",
   "execution_count": null,
   "metadata": {},
   "outputs": [],
   "source": [
    "#5. Write code to add a line to the graph you made in problem (1). Adjust the slope and y-intercept of this line\n",
    "#until you think you have found the line that best fits the data. Record the slope and y-intercept.\n"
   ]
  },
  {
   "cell_type": "code",
   "execution_count": null,
   "metadata": {},
   "outputs": [],
   "source": [
    "#6. Use Python to find the best-fit line. The Scikit-learn package is a good choice to use for this."
   ]
  },
  {
   "cell_type": "code",
   "execution_count": null,
   "metadata": {},
   "outputs": [],
   "source": [
    "#7. Find the root mean squared error (RMSE) of the prediction line you found in problem (4) and the actual best-fit\n",
    "#line found in problem (5). How do these compare?\n"
   ]
  },
  {
   "cell_type": "code",
   "execution_count": null,
   "metadata": {},
   "outputs": [],
   "source": [
    "#8. Use the best-fit line in problem (5) to predict the highway mpg of a car that weighs 3200 pounds."
   ]
  }
 ],
 "metadata": {
  "kernelspec": {
   "display_name": "base",
   "language": "python",
   "name": "python3"
  },
  "language_info": {
   "codemirror_mode": {
    "name": "ipython",
    "version": 3
   },
   "file_extension": ".py",
   "mimetype": "text/x-python",
   "name": "python",
   "nbconvert_exporter": "python",
   "pygments_lexer": "ipython3",
   "version": "3.12.3"
  }
 },
 "nbformat": 4,
 "nbformat_minor": 2
}
