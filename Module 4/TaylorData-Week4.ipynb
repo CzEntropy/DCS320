{
 "cells": [
  {
   "cell_type": "markdown",
   "metadata": {},
   "source": [
    "## Cristian Taylor\n",
    "## 7/1/2024\n",
    "## DSC320 Math for Data Science \n"
   ]
  },
  {
   "cell_type": "markdown",
   "metadata": {},
   "source": [
    "### Calculate the width of each rectangle "
   ]
  },
  {
   "cell_type": "code",
   "execution_count": 21,
   "metadata": {},
   "outputs": [],
   "source": [
    "import math\n",
    "#default value for n\n",
    "\n",
    "def right_riemann_sum(f, a, b, n):\n",
    "    \n",
    "    width = (b - a) / n\n",
    "    total_sum = 0\n",
    "\n",
    "# Calculate the sum of areas of rectangles using right endpoints\n",
    "    for i in range(1, n + 1):\n",
    "        x = a + i * width\n",
    "        total_sum += f(x) * width\n",
    "    \n",
    "    return total_sum"
   ]
  },
  {
   "cell_type": "markdown",
   "metadata": {},
   "source": [
    "### Sketch a graph of f and the rectangles that make up the right Riemann sum R4 on the interval [0, 2].\n",
    "\n",
    "see the attached file in the submission."
   ]
  },
  {
   "cell_type": "markdown",
   "metadata": {},
   "source": [
    "### Calculate R4 for the interval [0, 2]"
   ]
  },
  {
   "cell_type": "code",
   "execution_count": 22,
   "metadata": {},
   "outputs": [
    {
     "name": "stdout",
     "output_type": "stream",
     "text": [
      "R4: 3.75\n"
     ]
    }
   ],
   "source": [
    "a = 0\n",
    "b = 2\n",
    "n = 4\n",
    "R4 = right_riemann_sum(f, a, b, n)\n",
    "\n",
    "print(f\"R4: {R4}\")\n"
   ]
  },
  {
   "cell_type": "markdown",
   "metadata": {},
   "source": [
    "### Calculate the area under the curve using increasingly larger n"
   ]
  },
  {
   "cell_type": "code",
   "execution_count": 23,
   "metadata": {},
   "outputs": [
    {
     "name": "stdout",
     "output_type": "stream",
     "text": [
      "R10: 3.080000000000001\n",
      "R100: 2.706800000000001\n",
      "R1000: 2.6706680000000027\n",
      "R10000: 2.6670666799999965\n"
     ]
    }
   ],
   "source": [
    "areas = []\n",
    "for n in [10, 100, 1000, 10000]:\n",
    "    area = right_riemann_sum(f, a, b, n)\n",
    "    areas.append((n, area))\n",
    "    print(f\"R{n}: {area}\")"
   ]
  },
  {
   "cell_type": "markdown",
   "metadata": {},
   "source": [
    "### Output the areas"
   ]
  },
  {
   "cell_type": "code",
   "execution_count": 24,
   "metadata": {},
   "outputs": [
    {
     "data": {
      "text/plain": [
       "[(10, 3.080000000000001),\n",
       " (100, 2.706800000000001),\n",
       " (1000, 2.6706680000000027),\n",
       " (10000, 2.6670666799999965)]"
      ]
     },
     "execution_count": 24,
     "metadata": {},
     "output_type": "execute_result"
    }
   ],
   "source": [
    "areas"
   ]
  },
  {
   "cell_type": "markdown",
   "metadata": {},
   "source": [
    "### Calculate appropriate right Riemann sums to find the area under the curve y = f(x) on the interval\n",
    "[0, 2]. "
   ]
  },
  {
   "cell_type": "code",
   "execution_count": 25,
   "metadata": {},
   "outputs": [
    {
     "name": "stdout",
     "output_type": "stream",
     "text": [
      "Right Riemann Sum: 2.6706680000000027\n"
     ]
    }
   ],
   "source": [
    "import numpy as np\n",
    "\n",
    "# Define the function f(x)\n",
    "def f(x):\n",
    "    # Replace this with the actual function\n",
    "    return x ** 2  # Example function\n",
    "\n",
    "# Define the interval [a, b] and the number of subintervals n\n",
    "a = 0\n",
    "b = 2\n",
    "n = 1000  # Number of subintervals\n",
    "\n",
    "# Compute the width of each subinterval\n",
    "delta_x = (b - a) / n\n",
    "\n",
    "# Compute the right Riemann sum\n",
    "right_riemann_sum = 0\n",
    "for i in range(1, n + 1):\n",
    "    x_i = a + i * delta_x\n",
    "    right_riemann_sum += f(x_i) * delta_x\n",
    "\n",
    "print(f\"Right Riemann Sum: {right_riemann_sum}\")"
   ]
  },
  {
   "cell_type": "markdown",
   "metadata": {},
   "source": [
    "<br>Does the value of this area have a special name? \n",
    "<br>**Yes, it's called the definite integral of f(x) from 0 to 2.**"
   ]
  },
  {
   "cell_type": "markdown",
   "metadata": {},
   "source": []
  }
 ],
 "metadata": {
  "kernelspec": {
   "display_name": "my-env",
   "language": "python",
   "name": "python3"
  },
  "language_info": {
   "codemirror_mode": {
    "name": "ipython",
    "version": 3
   },
   "file_extension": ".py",
   "mimetype": "text/x-python",
   "name": "python",
   "nbconvert_exporter": "python",
   "pygments_lexer": "ipython3",
   "version": "3.12.3"
  }
 },
 "nbformat": 4,
 "nbformat_minor": 2
}
