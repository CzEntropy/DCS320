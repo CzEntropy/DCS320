{
 "cells": [
  {
   "cell_type": "markdown",
   "metadata": {},
   "source": [
    "**Cristian Taylor\n",
    "<br>6/22/2024\n",
    "<br>DSC320 Math for Data Science**"
   ]
  },
  {
   "cell_type": "markdown",
   "metadata": {},
   "source": [
    "# Calculating Limits Numerically"
   ]
  },
  {
   "cell_type": "code",
   "execution_count": null,
   "metadata": {},
   "outputs": [],
   "source": [
    "import numpy as np\n",
    "\n",
    "# Define the function f(x)\n",
    "def f(x):\n",
    "    return 2*x**3 - 4*x + 1\n",
    "\n",
    "# Define the function g(x)\n",
    "def g(x):\n",
    "    return (np.exp(x) - 1) / x\n",
    "\n",
    "# Values approaching 3 for f(x)\n",
    "values_approaching_3 = [2.9, 2.99, 2.999, 3.001, 3.01, 3.1]\n",
    "\n",
    "# Values approaching 0 for g(x)\n",
    "values_approaching_0 = [-0.1, -0.01, -0.001, 0.001, 0.01, 0.1]\n",
    "\n",
    "# Evaluate f(x) at values approaching 3\n",
    "f_values = [f(x) for x in values_approaching_3]\n",
    "\n",
    "# Evaluate g(x) at values approaching 0\n",
    "g_values = [g(x) for x in values_approaching_0]\n",
    "\n",
    "# Print results\n",
    "print(\"Values of f(x) approaching 3:\")\n",
    "for x, val in zip(values_approaching_3, f_values):\n",
    "    print(f\"f({x}) = {val}\")\n",
    "\n",
    "print(\"\\nValues of g(x) approaching 0:\")\n",
    "for x, val in zip(values_approaching_0, g_values):\n",
    "    print(f\"g({x}) = {val}\")\n"
   ]
  },
  {
   "cell_type": "markdown",
   "metadata": {},
   "source": [
    "# Average Rate of Change"
   ]
  },
  {
   "cell_type": "code",
   "execution_count": null,
   "metadata": {},
   "outputs": [],
   "source": []
  },
  {
   "cell_type": "markdown",
   "metadata": {},
   "source": [
    "# Average Rate of Change to Instantaneous Rate of Change"
   ]
  },
  {
   "cell_type": "code",
   "execution_count": null,
   "metadata": {},
   "outputs": [],
   "source": []
  },
  {
   "cell_type": "markdown",
   "metadata": {},
   "source": [
    "# Calculating and Interpreting Partial Derivatives"
   ]
  },
  {
   "cell_type": "code",
   "execution_count": null,
   "metadata": {},
   "outputs": [],
   "source": []
  }
 ],
 "metadata": {
  "language_info": {
   "name": "python"
  }
 },
 "nbformat": 4,
 "nbformat_minor": 2
}
