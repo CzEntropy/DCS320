{
 "cells": [
  {
   "cell_type": "markdown",
   "metadata": {},
   "source": [
    "**Cristian Taylor\n",
    "<br>6/22/2024\n",
    "<br>DSC320 Math for Data Science**"
   ]
  },
  {
   "cell_type": "markdown",
   "metadata": {},
   "source": [
    "# Calculating Limits Numerically"
   ]
  },
  {
   "cell_type": "code",
   "execution_count": 2,
   "metadata": {},
   "outputs": [
    {
     "name": "stdout",
     "output_type": "stream",
     "text": [
      "Values of f(x) approaching 3:\n",
      "f(2.9) = 38.178\n",
      "f(2.99) = 42.50179800000001\n",
      "f(2.999) = 42.95001799800001\n",
      "f(3.001) = 43.050018001999995\n",
      "f(3.01) = 43.50180199999999\n",
      "f(3.1) = 48.18200000000001\n",
      "\n",
      "Values of g(x) approaching 0:\n",
      "g(-0.1) = 0.9516258196404048\n",
      "g(-0.01) = 0.9950166250831893\n",
      "g(-0.001) = 0.9995001666249781\n",
      "g(0.001) = 1.0005001667083846\n",
      "g(0.01) = 1.005016708416795\n",
      "g(0.1) = 1.0517091807564771\n"
     ]
    }
   ],
   "source": [
    "import numpy as np\n",
    "\n",
    "# Define the function f(x)\n",
    "def f(x):\n",
    "    return 2*x**3 - 4*x + 1\n",
    "\n",
    "# Define the function g(x)\n",
    "def g(x):\n",
    "    return (np.exp(x) - 1) / x\n",
    "\n",
    "# Values approaching 3 for f(x)\n",
    "values_approaching_3 = [2.9, 2.99, 2.999, 3.001, 3.01, 3.1]\n",
    "\n",
    "# Values approaching 0 for g(x)\n",
    "values_approaching_0 = [-0.1, -0.01, -0.001, 0.001, 0.01, 0.1]\n",
    "\n",
    "# Evaluate f(x) at values approaching 3\n",
    "f_values = [f(x) for x in values_approaching_3]\n",
    "\n",
    "# Evaluate g(x) at values approaching 0\n",
    "g_values = [g(x) for x in values_approaching_0]\n",
    "\n",
    "# Print results\n",
    "print(\"Values of f(x) approaching 3:\")\n",
    "for x, val in zip(values_approaching_3, f_values):\n",
    "    print(f\"f({x}) = {val}\")\n",
    "\n",
    "print(\"\\nValues of g(x) approaching 0:\")\n",
    "for x, val in zip(values_approaching_0, g_values):\n",
    "    print(f\"g({x}) = {val}\")\n"
   ]
  },
  {
   "cell_type": "markdown",
   "metadata": {},
   "source": [
    "# Average Rate of Change"
   ]
  },
  {
   "cell_type": "code",
   "execution_count": 3,
   "metadata": {},
   "outputs": [
    {
     "name": "stdout",
     "output_type": "stream",
     "text": [
      "The average rate of change of f(x) between 1 and 4 is: 15.0\n"
     ]
    }
   ],
   "source": [
    "def average_rate_of_change(func, a, b):\n",
    "    \"\"\"\n",
    "    Calculate the average rate of change of the function func between points a and b.\n",
    "\n",
    "    Parameters:\n",
    "    func (function): The mathematical function for which the average rate of change is to be calculated.\n",
    "    a (float): The starting point.\n",
    "    b (float): The ending point.\n",
    "\n",
    "    Returns:\n",
    "    float: The average rate of change of the function between a and b.\n",
    "    \"\"\"\n",
    "    return (func(b) - func(a)) / (b - a)\n",
    "\n",
    "# Example usage\n",
    "if __name__ == \"__main__\":\n",
    "    # Define the mathematical function\n",
    "    def f(x):\n",
    "        return 3 * x ** 2\n",
    "\n",
    "    # Points a and b\n",
    "    a = 1\n",
    "    b = 4\n",
    "\n",
    "    # Calculate the average rate of change\n",
    "    avg_rate_of_change = average_rate_of_change(f, a, b)\n",
    "\n",
    "    # Print the result\n",
    "    print(f\"The average rate of change of f(x) between {a} and {b} is: {avg_rate_of_change}\")"
   ]
  },
  {
   "cell_type": "markdown",
   "metadata": {},
   "source": [
    "# Average Rate of Change to Instantaneous Rate of Change"
   ]
  },
  {
   "cell_type": "code",
   "execution_count": 4,
   "metadata": {},
   "outputs": [
    {
     "name": "stdout",
     "output_type": "stream",
     "text": [
      "The average speed of the baseball between 5 and 6 seconds is: 53.89999999999999 m/s\n",
      "The average speed of the baseball between 5 and 5.5 seconds is: 51.45000000000002 m/s\n",
      "The average speed of the baseball between 5 and 5.1 seconds is: 49.490000000000016 m/s\n",
      "\n",
      "Instantaneous speed estimates at t = 5 seconds:\n",
      "The speed of the baseball between 5 and 5.01 seconds is: 49.04899999999903 m/s\n",
      "The speed of the baseball between 5 and 5.001 seconds is: 49.004899999997754 m/s\n",
      "The speed of the baseball between 5 and 5.0001 seconds is: 49.00048999996949 m/s\n",
      "\n",
      "The instantaneous speed of the baseball at t = 5 seconds using the derivative is: 49.0 m/s\n"
     ]
    }
   ],
   "source": [
    "def average_rate_of_change(func, a, b):\n",
    "    \"\"\"\n",
    "    Calculate the average rate of change of the function func between points a and b.\n",
    "\n",
    "    Parameters:\n",
    "    func (function): The mathematical function for which the average rate of change is to be calculated.\n",
    "    a (float): The starting point.\n",
    "    b (float): The ending point.\n",
    "\n",
    "    Returns:\n",
    "    float: The average rate of change of the function between a and b.\n",
    "    \"\"\"\n",
    "    return (func(b) - func(a)) / (b - a)\n",
    "\n",
    "# Define the function f(t)\n",
    "def f(t):\n",
    "    return 4.9 * t ** 2\n",
    "\n",
    "# Calculate average speeds for given intervals\n",
    "intervals = [(5, 6), (5, 5.5), (5, 5.1)]\n",
    "avg_speeds = {interval: average_rate_of_change(f, interval[0], interval[1]) for interval in intervals}\n",
    "\n",
    "# Print the results\n",
    "for interval, speed in avg_speeds.items():\n",
    "    print(f\"The average speed of the baseball between {interval[0]} and {interval[1]} seconds is: {speed} m/s\")\n",
    "\n",
    "# Find the instantaneous speed at t = 5 seconds by using smaller intervals around t = 5\n",
    "small_intervals = [(5, 5.01), (5, 5.001), (5, 5.0001)]\n",
    "instant_speeds = {interval: average_rate_of_change(f, interval[0], interval[1]) for interval in small_intervals}\n",
    "\n",
    "print(\"\\nInstantaneous speed estimates at t = 5 seconds:\")\n",
    "for interval, speed in instant_speeds.items():\n",
    "    print(f\"The speed of the baseball between {interval[0]} and {interval[1]} seconds is: {speed} m/s\")\n",
    "\n",
    "# Calculate the derivative of f(t)\n",
    "def f_prime(t):\n",
    "    return 9.8 * t\n",
    "\n",
    "# Evaluate the derivative at t = 5\n",
    "instant_speed_at_5 = f_prime(5)\n",
    "print(f\"\\nThe instantaneous speed of the baseball at t = 5 seconds using the derivative is: {instant_speed_at_5} m/s\")\n"
   ]
  },
  {
   "cell_type": "markdown",
   "metadata": {},
   "source": [
    "# Calculating and Interpreting Partial Derivatives"
   ]
  },
  {
   "cell_type": "code",
   "execution_count": 6,
   "metadata": {},
   "outputs": [
    {
     "name": "stdout",
     "output_type": "stream",
     "text": [
      "The predicted selling price of a 5-year-old car with a condition rating of 8 is: $26200\n",
      "The partial derivative of P with respect to C (∂P/∂C) is: 2400\n",
      "Interpretation: For each unit increase in the condition rating, the selling price increases by $2400.\n",
      "The partial derivative of P with respect to Y (∂P/∂Y) is: -1800\n",
      "Interpretation: For each additional year of age, the selling price decreases by $1800.\n"
     ]
    }
   ],
   "source": [
    "# Define the model's function\n",
    "def predict_price(C, Y):\n",
    "    return 16000 + 2400 * C - 1800 * Y\n",
    "\n",
    "# (a) Predicted selling price for a 5-year-old car with a condition rating of 8\n",
    "condition_rating = 8\n",
    "age_of_car = 5\n",
    "predicted_price = predict_price(condition_rating, age_of_car)\n",
    "print(f\"The predicted selling price of a 5-year-old car with a condition rating of 8 is: ${predicted_price}\")\n",
    "\n",
    "# (b) Calculate the partial derivative of P with respect to C (∂P/∂C)\n",
    "def partial_derivative_C():\n",
    "    return 2400\n",
    "\n",
    "# Interpretation of ∂P/∂C\n",
    "partial_C = partial_derivative_C()\n",
    "print(f\"The partial derivative of P with respect to C (∂P/∂C) is: {partial_C}\")\n",
    "print(f\"Interpretation: For each unit increase in the condition rating, the selling price increases by ${partial_C}.\")\n",
    "\n",
    "# (c) Calculate the partial derivative of P with respect to Y (∂P/∂Y)\n",
    "def partial_derivative_Y():\n",
    "    return -1800\n",
    "\n",
    "# Interpretation of ∂P/∂Y\n",
    "partial_Y = partial_derivative_Y()\n",
    "print(f\"The partial derivative of P with respect to Y (∂P/∂Y) is: {partial_Y}\")\n",
    "print(f\"Interpretation: For each additional year of age, the selling price decreases by ${abs(partial_Y)}.\")\n"
   ]
  }
 ],
 "metadata": {
  "kernelspec": {
   "display_name": "my-env",
   "language": "python",
   "name": "python3"
  },
  "language_info": {
   "codemirror_mode": {
    "name": "ipython",
    "version": 3
   },
   "file_extension": ".py",
   "mimetype": "text/x-python",
   "name": "python",
   "nbconvert_exporter": "python",
   "pygments_lexer": "ipython3",
   "version": "3.12.3"
  }
 },
 "nbformat": 4,
 "nbformat_minor": 2
}
